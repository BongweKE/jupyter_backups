{
 "cells": [
  {
   "cell_type": "markdown",
   "id": "73479b8b",
   "metadata": {},
   "source": [
    "# Machine learning example"
   ]
  },
  {
   "cell_type": "markdown",
   "id": "bb585d22",
   "metadata": {},
   "source": [
    "## 1. Import the data"
   ]
  },
  {
   "cell_type": "code",
   "execution_count": 2,
   "id": "9d1f4b8b",
   "metadata": {},
   "outputs": [],
   "source": [
    "import pandas as pd"
   ]
  },
  {
   "cell_type": "code",
   "execution_count": 7,
   "id": "55688b6c",
   "metadata": {},
   "outputs": [],
   "source": [
    "# df = pd.read_csv('./data/music.csv.zip')\n",
    "# our file has multiple files\n",
    "\n",
    "import zipfile\n",
    "\n",
    "zf = zipfile.ZipFile('./data/music.csv.zip') # having music.csv zipped file.\n",
    "df = pd.read_csv(zf.open('music.csv'))"
   ]
  },
  {
   "cell_type": "code",
   "execution_count": 8,
   "id": "d0258adb",
   "metadata": {},
   "outputs": [
    {
     "data": {
      "text/html": [
       "<div>\n",
       "<style scoped>\n",
       "    .dataframe tbody tr th:only-of-type {\n",
       "        vertical-align: middle;\n",
       "    }\n",
       "\n",
       "    .dataframe tbody tr th {\n",
       "        vertical-align: top;\n",
       "    }\n",
       "\n",
       "    .dataframe thead th {\n",
       "        text-align: right;\n",
       "    }\n",
       "</style>\n",
       "<table border=\"1\" class=\"dataframe\">\n",
       "  <thead>\n",
       "    <tr style=\"text-align: right;\">\n",
       "      <th></th>\n",
       "      <th>age</th>\n",
       "      <th>gender</th>\n",
       "      <th>genre</th>\n",
       "    </tr>\n",
       "  </thead>\n",
       "  <tbody>\n",
       "    <tr>\n",
       "      <th>0</th>\n",
       "      <td>20</td>\n",
       "      <td>1</td>\n",
       "      <td>HipHop</td>\n",
       "    </tr>\n",
       "    <tr>\n",
       "      <th>1</th>\n",
       "      <td>23</td>\n",
       "      <td>1</td>\n",
       "      <td>HipHop</td>\n",
       "    </tr>\n",
       "    <tr>\n",
       "      <th>2</th>\n",
       "      <td>25</td>\n",
       "      <td>1</td>\n",
       "      <td>HipHop</td>\n",
       "    </tr>\n",
       "    <tr>\n",
       "      <th>3</th>\n",
       "      <td>26</td>\n",
       "      <td>1</td>\n",
       "      <td>Jazz</td>\n",
       "    </tr>\n",
       "    <tr>\n",
       "      <th>4</th>\n",
       "      <td>29</td>\n",
       "      <td>1</td>\n",
       "      <td>Jazz</td>\n",
       "    </tr>\n",
       "  </tbody>\n",
       "</table>\n",
       "</div>"
      ],
      "text/plain": [
       "   age  gender   genre\n",
       "0   20       1  HipHop\n",
       "1   23       1  HipHop\n",
       "2   25       1  HipHop\n",
       "3   26       1    Jazz\n",
       "4   29       1    Jazz"
      ]
     },
     "execution_count": 8,
     "metadata": {},
     "output_type": "execute_result"
    }
   ],
   "source": [
    "df.head()"
   ]
  },
  {
   "cell_type": "markdown",
   "id": "6be3f5e2",
   "metadata": {},
   "source": [
    "## 2. Cleaning the data"
   ]
  },
  {
   "cell_type": "markdown",
   "id": "8fbea3a7",
   "metadata": {},
   "source": [
    "Alternative guide:  \n",
    "https://www.educative.io/blog/what-is-data-cleaning"
   ]
  },
  {
   "cell_type": "markdown",
   "id": "5c33634a",
   "metadata": {},
   "source": [
    "### Framework for Data Cleaning\n",
    "**Step 1:** Remove duplicates at id level, that is, the level at which the rows should be unique.\\\n",
    "**Step 2:** Transform qualitative data into quantitative data by mapping strings to integers.\\\n",
    "*Eg: for a hotel, they offer packages for 2 days, 5 days and 10 days. We can encode the data as: 1=2 days, 2= 5 days and 3 = 10 days*\\\n",
    "**Step 3:** Handle outliers\\\n",
    "Check outliers on all key variables, especially the computed ones.\\\n",
    "**Step 4:** Handle missing values, columns etc.\\\n",
    "Check for blank columns, large % of blank data, high % of same data\\\n",
    "*Look for columns which are entirely blank. This can happen in case some join fails or in case there is some error in data extraction.*\\\n",
    "Check the % of blank cases by each column and frequency distributions to find out if the same data is being repeated in more cases than expected.\\\n",
    "**Step 5:** Handle missing values\\\n",
    "https://medium.com/@vinitasilaparasetty/guide-to-handling-missing-values-in-data-science-37d62edbfdc1\n",
    "\n",
    "Follow the link above for my guide on handling missing values.\n",
    "\n",
    "\n",
    "\n",
    "#### Quality Check:\n",
    "Check the quality of the cleaning tha has been done, by conduting one or both of the following tests:\n",
    "1. Synchronisation Test\n",
    "Check whether all columns they are in sync with each other. That is, check if they are in chronological order.\n",
    "2. Log Test\n",
    "If your data is perfectly clean, a simple query, such as displaying logs of the variables, should return the right result. If not, you may have to go back and check what you missed.\n",
    "\n",
    "### Data Cleaning Checklist\n",
    "- Remove HTML characters.\n",
    "- Decode encoded data.\n",
    "- Remove or substitute NULL values\n",
    "- Handle zero values\n",
    "- Handle negative values\n",
    "- Handle date values\n",
    "- Remove unnecessary values\n",
    "- Remove stop-words\n",
    "- Remove punctuation\n",
    "- Remove expressions\n",
    "- Use an underscore to split words that are attached.\n",
    "- Check min and max for each column to ensure that they make sense\n",
    "- Remove URLs, unless required for analysis.\n",
    "- Check grammar\n",
    "- Check spellings\n",
    "- Check for incorrect entries\n",
    "- Geographic coordinates must be within -180 to 180 degrees latitude or longitude."
   ]
  },
  {
   "cell_type": "markdown",
   "id": "29382bc4",
   "metadata": {},
   "source": [
    "The data set we have is pretty simple so we don't have to do that  much"
   ]
  },
  {
   "cell_type": "markdown",
   "id": "d889ec33",
   "metadata": {},
   "source": [
    "## 3. Split into training & test set"
   ]
  },
  {
   "cell_type": "markdown",
   "id": "459522fd",
   "metadata": {},
   "source": [
    "`70% - 80%` of our data should be used for training and the rest for testing"
   ]
  },
  {
   "cell_type": "markdown",
   "id": "bc42b670",
   "metadata": {},
   "source": [
    "by default `X` represent our input set and `y` represents our output set"
   ]
  },
  {
   "cell_type": "code",
   "execution_count": 11,
   "id": "4377d1bf",
   "metadata": {},
   "outputs": [],
   "source": [
    "\n",
    "X = df.drop(columns=['genre'])\n",
    "y = df['genre']"
   ]
  },
  {
   "cell_type": "code",
   "execution_count": 10,
   "id": "366bc651",
   "metadata": {},
   "outputs": [
    {
     "data": {
      "text/html": [
       "<div>\n",
       "<style scoped>\n",
       "    .dataframe tbody tr th:only-of-type {\n",
       "        vertical-align: middle;\n",
       "    }\n",
       "\n",
       "    .dataframe tbody tr th {\n",
       "        vertical-align: top;\n",
       "    }\n",
       "\n",
       "    .dataframe thead th {\n",
       "        text-align: right;\n",
       "    }\n",
       "</style>\n",
       "<table border=\"1\" class=\"dataframe\">\n",
       "  <thead>\n",
       "    <tr style=\"text-align: right;\">\n",
       "      <th></th>\n",
       "      <th>age</th>\n",
       "      <th>gender</th>\n",
       "    </tr>\n",
       "  </thead>\n",
       "  <tbody>\n",
       "    <tr>\n",
       "      <th>0</th>\n",
       "      <td>20</td>\n",
       "      <td>1</td>\n",
       "    </tr>\n",
       "    <tr>\n",
       "      <th>1</th>\n",
       "      <td>23</td>\n",
       "      <td>1</td>\n",
       "    </tr>\n",
       "    <tr>\n",
       "      <th>2</th>\n",
       "      <td>25</td>\n",
       "      <td>1</td>\n",
       "    </tr>\n",
       "    <tr>\n",
       "      <th>3</th>\n",
       "      <td>26</td>\n",
       "      <td>1</td>\n",
       "    </tr>\n",
       "    <tr>\n",
       "      <th>4</th>\n",
       "      <td>29</td>\n",
       "      <td>1</td>\n",
       "    </tr>\n",
       "  </tbody>\n",
       "</table>\n",
       "</div>"
      ],
      "text/plain": [
       "   age  gender\n",
       "0   20       1\n",
       "1   23       1\n",
       "2   25       1\n",
       "3   26       1\n",
       "4   29       1"
      ]
     },
     "execution_count": 10,
     "metadata": {},
     "output_type": "execute_result"
    }
   ],
   "source": [
    "X.head()"
   ]
  },
  {
   "cell_type": "code",
   "execution_count": 13,
   "id": "a70ad24c",
   "metadata": {},
   "outputs": [
    {
     "data": {
      "text/plain": [
       "0    HipHop\n",
       "1    HipHop\n",
       "2    HipHop\n",
       "3      Jazz\n",
       "4      Jazz\n",
       "Name: genre, dtype: object"
      ]
     },
     "execution_count": 13,
     "metadata": {},
     "output_type": "execute_result"
    }
   ],
   "source": [
    "y.head()"
   ]
  },
  {
   "cell_type": "code",
   "execution_count": 25,
   "id": "3d6be03e",
   "metadata": {},
   "outputs": [],
   "source": [
    "from sklearn.model_selection import train_test_split\n",
    "\n",
    "# 80% is for training:. 20% is for testing\n",
    "# output is a tuple which we can unpack in advance\n",
    "X_train, X_test, y_train, y_test = train_test_split(X, y, test_size=0.3) "
   ]
  },
  {
   "cell_type": "markdown",
   "id": "e6c41b0b",
   "metadata": {},
   "source": [
    "## 4. Create a model"
   ]
  },
  {
   "cell_type": "markdown",
   "id": "cd3b7649",
   "metadata": {},
   "source": [
    "Simply use the tools from sklearn and create the apropriate model\\\n",
    "\n",
    "*Note that **choosing a model** is the tougher thing* \\\n",
    "utilise: \\\n",
    "https://towardsdatascience.com/do-you-know-how-to-choose-the-right-machine-learning-algorithm-among-7-different-types-295d0b0c7f60 \\\n",
    "https://www.kdnuggets.com/2020/05/guide-choose-right-machine-learning-algorithm.html \\\n",
    "https://towardsdatascience.com/considerations-when-choosing-a-machine-learning-model-aa31f52c27f3 \\\n",
    "https://www.datasciencecentral.com/how-to-choose-a-machine-learning-model-some-guidelines/ \\\n",
    "(saved the best for last)"
   ]
  },
  {
   "cell_type": "code",
   "execution_count": 21,
   "id": "cb2b9aa2",
   "metadata": {},
   "outputs": [],
   "source": [
    "from sklearn.tree import DecisionTreeClassifier\n",
    "model = DecisionTreeClassifier()"
   ]
  },
  {
   "cell_type": "markdown",
   "id": "6cb7e317",
   "metadata": {},
   "source": [
    "## 5. Train the model"
   ]
  },
  {
   "cell_type": "markdown",
   "id": "e1d668e8",
   "metadata": {},
   "source": [
    "#### This is what most models in scikit-learn will do\n",
    "\n",
    "utilise `model.fit(X, y)` as a general shortcut with the bulk of work being with choosing the right model"
   ]
  },
  {
   "cell_type": "code",
   "execution_count": 26,
   "id": "ec9fde11",
   "metadata": {},
   "outputs": [
    {
     "data": {
      "text/plain": [
       "DecisionTreeClassifier()"
      ]
     },
     "execution_count": 26,
     "metadata": {},
     "output_type": "execute_result"
    }
   ],
   "source": [
    "model.fit(X_train, y_train)"
   ]
  },
  {
   "cell_type": "markdown",
   "id": "73428081",
   "metadata": {},
   "source": [
    "## 6. Make Predictions"
   ]
  },
  {
   "cell_type": "markdown",
   "id": "664abcdf",
   "metadata": {},
   "source": [
    "here we use `model.predict` which takes input of a multidimensional array \\\n",
    "for example, here we pass `[21,1]` a 21 year old male and `[22,0]` a 22 year old female inside our multidimensional array"
   ]
  },
  {
   "cell_type": "code",
   "execution_count": 18,
   "id": "70e3c310",
   "metadata": {},
   "outputs": [
    {
     "data": {
      "text/plain": [
       "array(['HipHop', 'Dance'], dtype=object)"
      ]
     },
     "execution_count": 18,
     "metadata": {},
     "output_type": "execute_result"
    }
   ],
   "source": [
    "#predictions = model.predict([ [21,1], [22,0] ])\n",
    "#predictions"
   ]
  },
  {
   "cell_type": "code",
   "execution_count": 27,
   "id": "369eb5bd",
   "metadata": {},
   "outputs": [
    {
     "data": {
      "text/plain": [
       "array(['Classical', 'Jazz', 'Dance', 'HipHop', 'Classical', 'Acoustic'],\n",
       "      dtype=object)"
      ]
     },
     "execution_count": 27,
     "metadata": {},
     "output_type": "execute_result"
    }
   ],
   "source": [
    "predictions = model.predict(X_test)\n",
    "predictions"
   ]
  },
  {
   "cell_type": "markdown",
   "id": "c2517a19",
   "metadata": {},
   "source": [
    "## 7. Evaluate & Improve"
   ]
  },
  {
   "cell_type": "code",
   "execution_count": 28,
   "id": "7ff008ea",
   "metadata": {},
   "outputs": [
    {
     "data": {
      "text/plain": [
       "0.8333333333333334"
      ]
     },
     "execution_count": 28,
     "metadata": {},
     "output_type": "execute_result"
    }
   ],
   "source": [
    "from sklearn.metrics import accuracy_score\n",
    "\n",
    "score = accuracy_score(y_test, predictions)\n",
    "score"
   ]
  }
 ],
 "metadata": {
  "kernelspec": {
   "display_name": "Python 3 (ipykernel)",
   "language": "python",
   "name": "python3"
  },
  "language_info": {
   "codemirror_mode": {
    "name": "ipython",
    "version": 3
   },
   "file_extension": ".py",
   "mimetype": "text/x-python",
   "name": "python",
   "nbconvert_exporter": "python",
   "pygments_lexer": "ipython3",
   "version": "3.9.9"
  }
 },
 "nbformat": 4,
 "nbformat_minor": 5
}
